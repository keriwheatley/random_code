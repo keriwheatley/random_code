{
 "cells": [
  {
   "cell_type": "code",
   "execution_count": 1,
   "metadata": {},
   "outputs": [],
   "source": [
    "import sys\n",
    "import time\n",
    "import requests\n",
    "import random\n",
    "import pandas as pd\n",
    "from datetime import date, datetime, timedelta\n",
    "import traceback\n",
    "import csv\n",
    "import math\n",
    "import time\n",
    "\n",
    "pd.set_option('display.max_columns', 1000)\n",
    "pd.set_option('display.max_colwidth', 1000)"
   ]
  },
  {
   "cell_type": "code",
   "execution_count": 2,
   "metadata": {},
   "outputs": [],
   "source": [
    "file = '/Users/keriwheatley/Desktop/random_code/googlemaps_web_scraper/cities.csv'\n",
    "cities = pd.read_csv(file, encoding = \"ISO-8859-1\")\n",
    "keyword = 'metrology'\n",
    "\n",
    "api_key = ''"
   ]
  },
  {
   "cell_type": "code",
   "execution_count": 68,
   "metadata": {},
   "outputs": [],
   "source": [
    "# for i, city in cities.head(10).iterrows():\n",
    "#     print(city['CITY'])"
   ]
  },
  {
   "cell_type": "code",
   "execution_count": 3,
   "metadata": {},
   "outputs": [],
   "source": [
    "cities = cities.head(2)"
   ]
  },
  {
   "cell_type": "code",
   "execution_count": 4,
   "metadata": {},
   "outputs": [],
   "source": [
    "# cities = cities[cities['CITY'] != 'New York New York']"
   ]
  },
  {
   "cell_type": "code",
   "execution_count": 5,
   "metadata": {},
   "outputs": [
    {
     "name": "stdout",
     "output_type": "stream",
     "text": [
      "Start: 2019-05-01 16:04:53.882798\n",
      "New York New York\n",
      "Los Angeles California\n",
      "End: 2019-05-01 16:05:04.838754\n"
     ]
    }
   ],
   "source": [
    "data = pd.DataFrame(columns=['place_id','name','formatted_address','rating','user_ratings_total','types','geometry'])\n",
    "print('Start:',datetime.now())\n",
    "for index, city in cities.iterrows():\n",
    "    print(city['CITY'])\n",
    "    query=keyword+' in '+city['CITY']\n",
    "    url = \"https://maps.googleapis.com/maps/api/place/textsearch/json?\"\n",
    "    time.sleep(5)\n",
    "    r = requests.get(url + '&query=' + query +\n",
    "                            '&key=' + api_key) \n",
    "    x = r.json()['results']\n",
    "    \n",
    "    for i in range(len(x)): \n",
    "        place_id = x[i]['place_id']\n",
    "        formatted_address = x[i]['formatted_address']\n",
    "        name = x[i]['name']\n",
    "        rating = x[i]['rating']\n",
    "        user_ratings_total = x[i]['user_ratings_total']\n",
    "        types = x[i]['types']\n",
    "        geometry = x[i]['geometry']['location']\n",
    "        current_row = pd.DataFrame([[place_id,name,formatted_address,rating,user_ratings_total,types,geometry]]\n",
    "                                   ,columns=['place_id','name','formatted_address','rating','user_ratings_total','types','geometry'])\n",
    "        data = pd.concat([data,current_row], sort=False)\n",
    "print('End:',datetime.now())"
   ]
  },
  {
   "cell_type": "code",
   "execution_count": 71,
   "metadata": {},
   "outputs": [],
   "source": [
    "# data.count()"
   ]
  },
  {
   "cell_type": "code",
   "execution_count": 6,
   "metadata": {},
   "outputs": [
    {
     "data": {
      "text/html": [
       "<div>\n",
       "<style scoped>\n",
       "    .dataframe tbody tr th:only-of-type {\n",
       "        vertical-align: middle;\n",
       "    }\n",
       "\n",
       "    .dataframe tbody tr th {\n",
       "        vertical-align: top;\n",
       "    }\n",
       "\n",
       "    .dataframe thead th {\n",
       "        text-align: right;\n",
       "    }\n",
       "</style>\n",
       "<table border=\"1\" class=\"dataframe\">\n",
       "  <thead>\n",
       "    <tr style=\"text-align: right;\">\n",
       "      <th></th>\n",
       "      <th>place_id</th>\n",
       "      <th>name</th>\n",
       "      <th>formatted_address</th>\n",
       "      <th>rating</th>\n",
       "      <th>user_ratings_total</th>\n",
       "      <th>types</th>\n",
       "      <th>geometry</th>\n",
       "    </tr>\n",
       "  </thead>\n",
       "  <tbody>\n",
       "  </tbody>\n",
       "</table>\n",
       "</div>"
      ],
      "text/plain": [
       "Empty DataFrame\n",
       "Columns: [place_id, name, formatted_address, rating, user_ratings_total, types, geometry]\n",
       "Index: []"
      ]
     },
     "execution_count": 6,
     "metadata": {},
     "output_type": "execute_result"
    }
   ],
   "source": [
    "# data.to_csv(keyword.replace(' ','_')+'data.csv')\n",
    "data"
   ]
  },
  {
   "cell_type": "code",
   "execution_count": 73,
   "metadata": {},
   "outputs": [],
   "source": [
    "# list_places\n"
   ]
  },
  {
   "cell_type": "code",
   "execution_count": 75,
   "metadata": {},
   "outputs": [
    {
     "name": "stdout",
     "output_type": "stream",
     "text": [
      "Start: 2019-04-29 18:55:17.270550\n",
      "End: 2019-04-29 18:56:59.565032\n"
     ]
    }
   ],
   "source": [
    "list_places = data['place_id']\n",
    "# list_places = ['ChIJp9LTWDWej4ARrh0N-FMPgso']\n",
    "# list_places = data[~data['place_id'].isin(data2['place_id'])]['place_id']\n",
    "\n",
    "data2 = pd.DataFrame(columns=['place_id','formatted_phone_number','website','opening_hours','name','adr_address'])\n",
    "\n",
    "print('Start:',datetime.now())\n",
    "for place_id in list_places:\n",
    "#     print(place_id)\n",
    "    url = \"https://maps.googleapis.com/maps/api/place/details/json?placeid=\"+place_id+\"&fields=adr_address,name,website,formatted_phone_number,opening_hours\"\n",
    "    r = requests.get(url + '&key=' + api_key) \n",
    "    x = r.json()['result']\n",
    "\n",
    "    if 'formatted_phone_number' in x.keys():\n",
    "        formatted_phone_number = x['formatted_phone_number']\n",
    "    else:\n",
    "        formatted_phone_number = ''\n",
    "\n",
    "    if 'name' in x.keys():\n",
    "        name = x['name']\n",
    "    else:\n",
    "        name = ''\n",
    "\n",
    "    if 'website' in x.keys():\n",
    "        website = x['website']\n",
    "    else:\n",
    "        website = ''\n",
    "\n",
    "    if 'opening_hours' in x.keys():\n",
    "        opening_hours = x['opening_hours']\n",
    "    else:\n",
    "        opening_hours = ''\n",
    "\n",
    "    if 'adr_address' in x.keys():\n",
    "        adr_address = x['adr_address']\n",
    "    else:\n",
    "        adr_address = ''\n",
    "        \n",
    "    current_row = pd.DataFrame([[place_id,formatted_phone_number,website,opening_hours,name,adr_address]]\n",
    "                               ,columns=['place_id','formatted_phone_number','website','opening_hours','name','adr_address'])\n",
    "    data2 = pd.concat([data2,current_row], sort=False) \n",
    "print('End:',datetime.now())    "
   ]
  },
  {
   "cell_type": "code",
   "execution_count": 76,
   "metadata": {},
   "outputs": [],
   "source": [
    "# data2\n",
    "# current_row\n",
    "# data[data['place_id']=='ChIJp9LTWDWej4ARrh0N-FMPgso']\n",
    "# data[~data['place_id'].isin(data2['place_id'])]"
   ]
  },
  {
   "cell_type": "code",
   "execution_count": 77,
   "metadata": {},
   "outputs": [],
   "source": [
    "data2.to_csv(keyword.replace(' ','_')+'data2.csv')"
   ]
  },
  {
   "cell_type": "code",
   "execution_count": 78,
   "metadata": {},
   "outputs": [],
   "source": [
    "final_data = data.merge(data2, left_on=['place_id','name'], right_on=['place_id','name'], how='outer')"
   ]
  },
  {
   "cell_type": "code",
   "execution_count": 79,
   "metadata": {},
   "outputs": [],
   "source": [
    "# for column in final_data.columns:\n",
    "#     print(column)\n",
    "#     final_data[column] = final_data[column].astype(str)"
   ]
  },
  {
   "cell_type": "code",
   "execution_count": 80,
   "metadata": {},
   "outputs": [],
   "source": [
    "for column in final_data.columns:\n",
    "    final_data[column] = final_data[column].astype(str)\n",
    "final_data = final_data.drop_duplicates()"
   ]
  },
  {
   "cell_type": "code",
   "execution_count": 81,
   "metadata": {},
   "outputs": [],
   "source": [
    "final_data.to_csv(keyword.replace(' ','_')+'places_list.csv', index=False)"
   ]
  },
  {
   "cell_type": "code",
   "execution_count": 82,
   "metadata": {},
   "outputs": [
    {
     "data": {
      "text/plain": [
       "place_id                  381\n",
       "name                      381\n",
       "formatted_address         381\n",
       "rating                    381\n",
       "user_ratings_total        381\n",
       "types                     381\n",
       "geometry                  381\n",
       "formatted_phone_number    381\n",
       "website                   381\n",
       "opening_hours             381\n",
       "adr_address               381\n",
       "dtype: int64"
      ]
     },
     "execution_count": 82,
     "metadata": {},
     "output_type": "execute_result"
    }
   ],
   "source": [
    "final_data.count()"
   ]
  },
  {
   "cell_type": "code",
   "execution_count": null,
   "metadata": {},
   "outputs": [],
   "source": []
  }
 ],
 "metadata": {
  "kernelspec": {
   "display_name": "Python 3.6",
   "language": "python",
   "name": "python36"
  },
  "language_info": {
   "codemirror_mode": {
    "name": "ipython",
    "version": 3
   },
   "file_extension": ".py",
   "mimetype": "text/x-python",
   "name": "python",
   "nbconvert_exporter": "python",
   "pygments_lexer": "ipython3",
   "version": "3.6.7"
  }
 },
 "nbformat": 4,
 "nbformat_minor": 2
}
