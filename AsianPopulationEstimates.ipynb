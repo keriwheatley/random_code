{
 "cells": [
  {
   "cell_type": "code",
   "execution_count": 6,
   "metadata": {},
   "outputs": [],
   "source": [
    "import pandas as pd\n",
    "import matplotlib.pyplot as plt"
   ]
  },
  {
   "cell_type": "code",
   "execution_count": 7,
   "metadata": {},
   "outputs": [],
   "source": [
    "data = pd.read_csv('2018allcntytot.csv')"
   ]
  },
  {
   "cell_type": "code",
   "execution_count": 9,
   "metadata": {},
   "outputs": [
    {
     "data": {
      "text/html": [
       "<div>\n",
       "<style scoped>\n",
       "    .dataframe tbody tr th:only-of-type {\n",
       "        vertical-align: middle;\n",
       "    }\n",
       "\n",
       "    .dataframe tbody tr th {\n",
       "        vertical-align: top;\n",
       "    }\n",
       "\n",
       "    .dataframe thead th {\n",
       "        text-align: right;\n",
       "    }\n",
       "</style>\n",
       "<table border=\"1\" class=\"dataframe\">\n",
       "  <thead>\n",
       "    <tr style=\"text-align: right;\">\n",
       "      <th></th>\n",
       "      <th>year</th>\n",
       "      <th>FIPS</th>\n",
       "      <th>area_name</th>\n",
       "      <th>total</th>\n",
       "      <th>total_male</th>\n",
       "      <th>total_female</th>\n",
       "      <th>nh_white_total</th>\n",
       "      <th>nh_white_male</th>\n",
       "      <th>nh_white_female</th>\n",
       "      <th>nh_black_total</th>\n",
       "      <th>...</th>\n",
       "      <th>nh_black_female</th>\n",
       "      <th>hispanic_total</th>\n",
       "      <th>hispanic_male</th>\n",
       "      <th>hispanic_female</th>\n",
       "      <th>nh_asian_total</th>\n",
       "      <th>nh_asian_male</th>\n",
       "      <th>nh_asian_female</th>\n",
       "      <th>nh_other_total</th>\n",
       "      <th>nh_other_male</th>\n",
       "      <th>nh_other_female</th>\n",
       "    </tr>\n",
       "  </thead>\n",
       "  <tbody>\n",
       "    <tr>\n",
       "      <th>0</th>\n",
       "      <td>2010</td>\n",
       "      <td>0</td>\n",
       "      <td>State of Texas</td>\n",
       "      <td>25145561</td>\n",
       "      <td>12472280</td>\n",
       "      <td>12673281</td>\n",
       "      <td>11397345</td>\n",
       "      <td>5632646</td>\n",
       "      <td>5764699</td>\n",
       "      <td>2886825</td>\n",
       "      <td>...</td>\n",
       "      <td>1494415</td>\n",
       "      <td>9460921</td>\n",
       "      <td>4763753</td>\n",
       "      <td>4697168</td>\n",
       "      <td>948426</td>\n",
       "      <td>460855</td>\n",
       "      <td>487571</td>\n",
       "      <td>452044</td>\n",
       "      <td>222616</td>\n",
       "      <td>229428</td>\n",
       "    </tr>\n",
       "  </tbody>\n",
       "</table>\n",
       "<p>1 rows × 21 columns</p>\n",
       "</div>"
      ],
      "text/plain": [
       "   year  FIPS       area_name     total  total_male  total_female  \\\n",
       "0  2010     0  State of Texas  25145561    12472280      12673281   \n",
       "\n",
       "   nh_white_total  nh_white_male  nh_white_female  nh_black_total  \\\n",
       "0        11397345        5632646          5764699         2886825   \n",
       "\n",
       "        ...         nh_black_female  hispanic_total  hispanic_male  \\\n",
       "0       ...                 1494415         9460921        4763753   \n",
       "\n",
       "   hispanic_female  nh_asian_total  nh_asian_male  nh_asian_female  \\\n",
       "0          4697168          948426         460855           487571   \n",
       "\n",
       "   nh_other_total  nh_other_male  nh_other_female  \n",
       "0          452044         222616           229428  \n",
       "\n",
       "[1 rows x 21 columns]"
      ]
     },
     "execution_count": 9,
     "metadata": {},
     "output_type": "execute_result"
    }
   ],
   "source": [
    "data.head(1)"
   ]
  },
  {
   "cell_type": "code",
   "execution_count": 13,
   "metadata": {},
   "outputs": [],
   "source": [
    "# data['area_name'].unique()\n",
    "subset_data = data[data['area_name'] == 'State of Texas']"
   ]
  },
  {
   "cell_type": "code",
   "execution_count": 15,
   "metadata": {},
   "outputs": [
    {
     "data": {
      "image/png": "[encoded data removed]",
      "text/plain": [
       "<Figure size 432x288 with 1 Axes>"
      ]
     },
     "metadata": {
      "needs_background": "light"
     },
     "output_type": "display_data"
    }
   ],
   "source": [
    "plt.plot(subset_data['year'], subset_data['nh_asian_male'])\n",
    "plt.show()\n",
    "\n",
    "plt.plot('year', 'nh_asian_total', data=subset_data)\n",
    "plt.show()"
   ]
  },
  {
   "cell_type": "code",
   "execution_count": 20,
   "metadata": {},
   "outputs": [
    {
     "data": {
      "image/png": "[encoded data removed]",
      "text/plain": [
       "<Figure size 432x288 with 1 Axes>"
      ]
     },
     "metadata": {
      "needs_background": "light"
     },
     "output_type": "display_data"
    }
   ],
   "source": [
    "plt.plot('year', 'nh_asian_female', data=subset_data)\n",
    "plt.show()"
   ]
  },
  {
   "cell_type": "code",
   "execution_count": 21,
   "metadata": {},
   "outputs": [
    {
     "data": {
      "image/png": "[encoded data removed]",
      "text/plain": [
       "<Figure size 432x288 with 1 Axes>"
      ]
     },
     "metadata": {
      "needs_background": "light"
     },
     "output_type": "display_data"
    }
   ],
   "source": [
    "plt.plot('year', 'nh_asian_total', data=subset_data)\n",
    "plt.show()"
   ]
  },
  {
   "cell_type": "code",
   "execution_count": null,
   "metadata": {},
   "outputs": [],
   "source": []
  }
 ],
 "metadata": {
  "kernelspec": {
   "display_name": "Python 3.6",
   "language": "python",
   "name": "python36"
  },
  "language_info": {
   "codemirror_mode": {
    "name": "ipython",
    "version": 3
   },
   "file_extension": ".py",
   "mimetype": "text/x-python",
   "name": "python",
   "nbconvert_exporter": "python",
   "pygments_lexer": "ipython3",
   "version": "3.6.7"
  }
 },
 "nbformat": 4,
 "nbformat_minor": 2
}
